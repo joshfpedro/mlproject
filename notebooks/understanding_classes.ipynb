{
 "cells": [
  {
   "cell_type": "code",
   "execution_count": 1,
   "id": "99fdc3f6",
   "metadata": {},
   "outputs": [],
   "source": [
    "import math\n",
    "\n",
    "class Vector:\n",
    "    # This is the \"constructor\". It's a special method that runs\n",
    "    # when you create a new Vector object. Its job is to set up\n",
    "    # the initial data (state) of the object.\n",
    "    def __init__(self, x, y):\n",
    "        print(f\"Creating a new vector with components ({x}, {y})\")\n",
    "        # 'self' refers to the specific instance being created.\n",
    "        # We are \"attaching\" the x and y values to this instance.\n",
    "        self.x = x\n",
    "        self.y = y\n",
    "\n",
    "    # This is a \"method\". It's a function that belongs to the class.\n",
    "    # It defines a behavior for Vector objects.\n",
    "    # It automatically gets the instance ('self') as its first argument.\n",
    "    def magnitude(self):\n",
    "        # It can access the instance's own data using 'self'.\n",
    "        return math.sqrt(self.x**2 + self.y**2)\n",
    "\n",
    "    # Here's another method.\n",
    "    def add(self, other_vector):\n",
    "        # This method takes another Vector object as an argument.\n",
    "        new_x = self.x + other_vector.x\n",
    "        new_y = self.y + other_vector.y\n",
    "        # It returns a *new* Vector object.\n",
    "        return Vector(new_x, new_y)\n",
    "        \n",
    "    # This is a special method for creating a \"developer-friendly\"\n",
    "    # string representation of the object. Very useful for printing!\n",
    "    def __repr__(self):\n",
    "        return f\"Vector({self.x}, {self.y})\""
   ]
  },
  {
   "cell_type": "code",
   "execution_count": 13,
   "id": "af163c95",
   "metadata": {},
   "outputs": [
    {
     "name": "stdout",
     "output_type": "stream",
     "text": [
      "Creating a new vector with components (3, 4)\n",
      "Creating a new vector with components (-1, 2)\n",
      "v1 has x component: 3\n",
      "v2 has y component: 2\n"
     ]
    }
   ],
   "source": [
    "# Create an instance of the Vector class. This calls __init__.\n",
    "v1 = Vector(3, 4)  # Output: Creating a new vector with components (3, 4)\n",
    "\n",
    "# Create another, completely separate instance.\n",
    "v2 = Vector(-1, 2) # Output: Creating a new vector with components (-1, 2)\n",
    "\n",
    "# Now let's interact with our objects.\n",
    "\n",
    "# 1. Access their data (attributes)\n",
    "print(f\"v1 has x component: {v1.x}\") # Output: v1 has x component: 3\n",
    "print(f\"v2 has y component: {v2.y}\") # Output: v2 has y component: 2"
   ]
  },
  {
   "cell_type": "code",
   "execution_count": 16,
   "id": "0b1f7790",
   "metadata": {},
   "outputs": [
    {
     "data": {
      "text/plain": [
       "2.23606797749979"
      ]
     },
     "execution_count": 16,
     "metadata": {},
     "output_type": "execute_result"
    }
   ],
   "source": [
    "v1.magnitude()  # Calculate the magnitude of v1\n",
    "v2.magnitude()  # Calculate the magnitude of v2"
   ]
  },
  {
   "cell_type": "markdown",
   "id": "3f4ec009",
   "metadata": {},
   "source": [
    "## Exercise"
   ]
  },
  {
   "cell_type": "code",
   "execution_count": 35,
   "id": "26fe8ab4",
   "metadata": {},
   "outputs": [],
   "source": [
    "import math # You will need this for the bonus!\n",
    "\n",
    "class RationalNumber:\n",
    "    \"\"\"\n",
    "    Represents a rational number as a fraction with a numerator and a denominator.\n",
    "    \"\"\"\n",
    "    def __init__(self, numerator, denominator):\n",
    "        \n",
    "        gcd = math.gcd(numerator, denominator)\n",
    "        \n",
    "        numerator = numerator // gcd\n",
    "        denominator = denominator // gcd\n",
    "        \n",
    "        self.numerator = numerator\n",
    "        self.denominator = denominator\n",
    "\n",
    "    def __repr__(self):\n",
    "        return f\"RationalNumber({self.numerator}, {self.denominator})\"\n",
    "\n",
    "    def to_float(self):\n",
    "        return self.numerator / self.denominator\n",
    "    \n",
    "    def __add__(self, other):\n",
    "        \n",
    "        new_numerator = self.numerator * other.denominator + self.denominator * other.numerator\n",
    "        new_denominator = self.denominator * other.denominator\n",
    "        \n",
    "        return RationalNumber(new_numerator, new_denominator)"
   ]
  },
  {
   "cell_type": "code",
   "execution_count": 38,
   "id": "63cd9454",
   "metadata": {},
   "outputs": [
    {
     "name": "stdout",
     "output_type": "stream",
     "text": [
      "RationalNumber(3, 4)\n"
     ]
    }
   ],
   "source": [
    "# --- Example Usage ---\n",
    "r1 = RationalNumber(1, 2)  # Represents 1/2\n",
    "r2 = RationalNumber(1, 4)  # Represents 1/4\n",
    "\n",
    "# This line will automatically call your r1.__add__(r2) method\n",
    "result = r1 + r2\n",
    "\n",
    "print(result)"
   ]
  },
  {
   "cell_type": "code",
   "execution_count": null,
   "id": "a6e388a4",
   "metadata": {},
   "outputs": [],
   "source": []
  },
  {
   "cell_type": "code",
   "execution_count": 22,
   "id": "bccf2752",
   "metadata": {},
   "outputs": [
    {
     "name": "stdout",
     "output_type": "stream",
     "text": [
      "Creating a new rational number 1 / 2\n",
      "Creating a new rational number 10 / 4\n",
      "r1 is: RationalNumber(1, 2)\n",
      "r2 is: RationalNumber(10, 4)\n"
     ]
    }
   ],
   "source": [
    "# Create two rational numbers\n",
    "r1 = RationalNumber(1, 2)\n",
    "r2 = RationalNumber(10, 4)\n",
    "\n",
    "# Print them to test __repr__\n",
    "print(f\"r1 is: {r1}\")\n",
    "print(f\"r2 is: {r2}\")"
   ]
  },
  {
   "cell_type": "code",
   "execution_count": 23,
   "id": "e1cccd39",
   "metadata": {},
   "outputs": [
    {
     "name": "stdout",
     "output_type": "stream",
     "text": [
      "The numerator of r1 is 1\n"
     ]
    }
   ],
   "source": [
    "# Test the attributes\n",
    "print(f\"The numerator of r1 is {r1.numerator}\")"
   ]
  },
  {
   "cell_type": "code",
   "execution_count": 24,
   "id": "4952f69b",
   "metadata": {},
   "outputs": [
    {
     "name": "stdout",
     "output_type": "stream",
     "text": [
      "r1 as a float is 0.5\n",
      "r2 as a float is 2.5\n"
     ]
    }
   ],
   "source": [
    "# Test the to_float method\n",
    "print(f\"r1 as a float is {r1.to_float()}\")\n",
    "print(f\"r2 as a float is {r2.to_float()}\")"
   ]
  }
 ],
 "metadata": {
  "kernelspec": {
   "display_name": "Python 3",
   "language": "python",
   "name": "python3"
  },
  "language_info": {
   "codemirror_mode": {
    "name": "ipython",
    "version": 3
   },
   "file_extension": ".py",
   "mimetype": "text/x-python",
   "name": "python",
   "nbconvert_exporter": "python",
   "pygments_lexer": "ipython3",
   "version": "3.12.11"
  }
 },
 "nbformat": 4,
 "nbformat_minor": 5
}
